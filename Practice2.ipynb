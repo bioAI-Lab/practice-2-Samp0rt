{
 "cells": [
  {
   "cell_type": "markdown",
   "id": "4bc9e1d4",
   "metadata": {},
   "source": [
    "# Практика 2"
   ]
  },
  {
   "cell_type": "code",
   "execution_count": 1,
   "id": "5b44c2b1",
   "metadata": {},
   "outputs": [
    {
     "name": "stderr",
     "output_type": "stream",
     "text": [
      "/Users/kirill/miniforge3/envs/chemy/lib/python3.12/site-packages/tqdm/auto.py:21: TqdmWarning: IProgress not found. Please update jupyter and ipywidgets. See https://ipywidgets.readthedocs.io/en/stable/user_install.html\n",
      "  from .autonotebook import tqdm as notebook_tqdm\n"
     ]
    }
   ],
   "source": [
    "from mp_api.client import MPRester\n",
    "API_KEY = 'MyGooigQg21abOKdZMpUKBmYNiNLdfB8'"
   ]
  },
  {
   "cell_type": "markdown",
   "id": "581bad01",
   "metadata": {},
   "source": [
    "## Часть 1: Материалы"
   ]
  },
  {
   "cell_type": "code",
   "execution_count": null,
   "id": "414b2ac7",
   "metadata": {},
   "outputs": [
    {
     "name": "stderr",
     "output_type": "stream",
     "text": [
      "Retrieving MaterialsDoc documents: 100%|██████████| 6/6 [00:00<00:00, 80919.05it/s]"
     ]
    },
    {
     "name": "stdout",
     "output_type": "stream",
     "text": [
      "Full Formula (Mn10 Fe20 O40)\n",
      "Reduced Formula: Mn(FeO2)2\n",
      "abc   :   6.150494   6.100717  30.396005\n",
      "angles:  60.279723  59.998079  59.837294\n",
      "pbc   :       True       True       True\n",
      "Sites (70)\n",
      "  #  SP           a         b         c    magmom\n",
      "---  ----  --------  --------  --------  --------\n",
      "  0  Mn    0.125585  0.12847   0.02481      4.639\n",
      "  1  Mn    0.002381  0.500143  0.099514     3.989\n",
      "  2  Mn    0.128669  0.127284  0.224312     4.634\n",
      "  3  Mn    0.128352  0.122436  0.425415     4.631\n",
      "  4  Mn    0.000682  0.497553  0.50056      4.116\n",
      "  5  Mn    0.12062   0.124349  0.627158     4.63\n",
      "  6  Mn    0.002588  0.501439  0.299683     4.492\n",
      "  7  Mn    0.122237  0.127152  0.825253     4.642\n",
      "  8  Mn    0.998346  0.502359  0.700177     4.095\n",
      "  9  Mn    0.878815  0.874438  0.9738       4.649\n",
      " 10  Fe    0.502299  0.001466  0.099341     4.369\n",
      " 11  Fe    0.500029  0.503541  0.999434     4.38\n",
      " 12  Fe    0.500882  0.499626  0.099371     4.367\n",
      " 13  Fe    0.497122  0.005267  0.299203     4.371\n",
      " 14  Fe    0.501837  0.498678  0.199326     4.368\n",
      " 15  Fe    0.498962  0.500552  0.298789     4.37\n",
      " 16  Fe    0.877569  0.875318  0.175025     3.803\n",
      " 17  Fe    0.498899  0.001195  0.500524     4.37\n",
      " 18  Fe    0.49735   0.49689   0.401208     4.378\n",
      " 19  Fe    0.499029  0.495707  0.50069      4.369\n",
      " 20  Fe    0.869269  0.876801  0.374784     4.354\n",
      " 21  Fe    0.499789  0.502585  0.600433     4.369\n",
      " 22  Fe    0.497639  0.501215  0.69999      4.366\n",
      " 23  Fe    0.875273  0.872543  0.575482     3.798\n",
      " 24  Fe    0.500283  0.497084  0.800101     4.366\n",
      " 25  Fe    0.497277  0.001283  0.700337     4.369\n",
      " 26  Fe    0.500532  0.499565  0.900134     4.381\n",
      " 27  Fe    0.867712  0.878192  0.775951     3.801\n",
      " 28  Fe    0.499613  0.999521  0.900443     4.369\n",
      " 29  Fe    0.998937  0.50057   0.899937     4.366\n",
      " 30  O     0.26187   0.274764  0.051888     0.137\n",
      " 31  O     0.261241  0.26658   0.141381     0.155\n",
      " 32  O     0.284367  0.71653   0.048981     0.256\n",
      " 33  O     0.709425  0.26392   0.050694     0.275\n",
      " 34  O     0.272175  0.257958  0.251759     0.209\n",
      " 35  O     0.28493   0.741584  0.147492     0.273\n",
      " 36  O     0.739976  0.733968  0.057842     0.16\n",
      " 37  O     0.270882  0.258719  0.342899     0.19\n",
      " 38  O     0.283726  0.716213  0.250103     0.247\n",
      " 39  O     0.721357  0.278181  0.149442     0.254\n",
      " 40  O     0.713438  0.256911  0.252762     0.288\n",
      " 41  O     0.748386  0.730309  0.146208     0.145\n",
      " 42  O     0.260007  0.266007  0.453507     0.146\n",
      " 43  O     0.26514   0.744143  0.349978     0.296\n",
      " 44  O     0.724502  0.739574  0.258759     0.206\n",
      " 45  O     0.722862  0.264749  0.351439     0.289\n",
      " 46  O     0.282337  0.25085   0.54403      0.27\n",
      " 47  O     0.262466  0.707389  0.453224     0.167\n",
      " 48  O     0.711945  0.261725  0.451769     0.284\n",
      " 49  O     0.729823  0.74604   0.350793     0.256\n",
      " 50  O     0.288076  0.740968  0.546758     0.276\n",
      " 51  O     0.259182  0.268648  0.65304      0.133\n",
      " 52  O     0.727483  0.754564  0.451771     0.303\n",
      " 53  O     0.737587  0.289327  0.546891     0.166\n",
      " 54  O     0.280288  0.71773   0.650489     0.247\n",
      " 55  O     0.261869  0.262689  0.742642     0.169\n",
      " 56  O     0.713162  0.258923  0.652286     0.273\n",
      " 57  O     0.743941  0.737049  0.54581      0.149\n",
      " 58  O     0.284737  0.739706  0.748406     0.282\n",
      " 59  O     0.263827  0.26019   0.853281     0.272\n",
      " 60  O     0.72327   0.278277  0.749156     0.246\n",
      " 61  O     0.73648   0.741398  0.656751     0.17\n",
      " 62  O     0.267773  0.26854   0.941795     0.277\n",
      " 63  O     0.266836  0.707032  0.854204     0.269\n",
      " 64  O     0.708308  0.263215  0.853704     0.271\n",
      " 65  O     0.741548  0.732124  0.747569     0.143\n",
      " 66  O     0.295744  0.732677  0.94723      0.271\n",
      " 67  O     0.728108  0.29509   0.947254     0.265\n",
      " 68  O     0.738963  0.728505  0.856955     0.272\n",
      " 69  O     0.733389  0.734011  0.947871     0.27\n"
     ]
    },
    {
     "name": "stderr",
     "output_type": "stream",
     "text": [
      "\n"
     ]
    }
   ],
   "source": [
    "# Загрузка структуры материала\n",
    "with MPRester(API_KEY) as mpr:\n",
    "    structures = mpr.get_structures(\"MnFe2O4\")\n",
    "    structure = structures[0]\n",
    "    print(structure)"
   ]
  },
  {
   "cell_type": "code",
   "execution_count": 3,
   "id": "c59d11b6",
   "metadata": {},
   "outputs": [
    {
     "name": "stdout",
     "output_type": "stream",
     "text": [
      "Composition: Mn10 Fe20 O40\n",
      "Elements: [Element Mn, Element Fe, Element O]\n"
     ]
    }
   ],
   "source": [
    "# Анализ состава и элементов материала\n",
    "composition = structure.composition\n",
    "\n",
    "print('Composition:', composition)\n",
    "print('Elements:', composition.elements)"
   ]
  },
  {
   "cell_type": "code",
   "execution_count": 4,
   "id": "bb6846ea",
   "metadata": {},
   "outputs": [
    {
     "name": "stdout",
     "output_type": "stream",
     "text": [
      "Lattice parameters (a, b, c): 6.150493600289411, 6.100716953321962, 30.396005395963694\n",
      "Angles (α, β, γ): 60.27972332909433, 59.99807904718926, 59.83729374457539\n",
      "Density: 4.744605346781863 g cm^-3\n"
     ]
    }
   ],
   "source": [
    "# Вычисление параметров решётки и плотности\n",
    "lattice = structure.lattice\n",
    "\n",
    "print(f'Lattice parameters (a, b, c): {lattice.a}, {lattice.b}, {lattice.c}')\n",
    "print(f'Angles (α, β, γ): {lattice.alpha}, {lattice.beta}, {lattice.gamma}')\n",
    "print('Density:', structure.density)"
   ]
  },
  {
   "cell_type": "markdown",
   "id": "1aff44e0",
   "metadata": {},
   "source": [
    "## Часть 2: Последовательности ДНК/РНК"
   ]
  },
  {
   "cell_type": "code",
   "execution_count": 5,
   "id": "fcee585d",
   "metadata": {},
   "outputs": [
    {
     "name": "stdout",
     "output_type": "stream",
     "text": [
      "------------\n",
      "Sequence 1: ATGCGTACGTTAGC\n",
      "GC-fraction: 50.00%\n",
      "Reverse complement: GCTAACGTACGCAT\n",
      "RNA: AUGCGUACGUUAGC\n",
      "------------\n",
      "Sequence 2: GATTACAAGGCTTACG\n",
      "GC-fraction: 43.75%\n",
      "Reverse complement: CGTAAGCCTTGTAATC\n",
      "RNA: GAUUACAAGGCUUACG\n"
     ]
    }
   ],
   "source": [
    "from Bio.Seq import Seq\n",
    "from Bio.SeqUtils import gc_fraction\n",
    "\n",
    "seq1 = Seq(\"ATGCGTACGTTAGC\")\n",
    "seq2 = Seq(\"GATTACAAGGCTTACG\")\n",
    "\n",
    "sequences = [seq1, seq2]\n",
    "\n",
    "for i, seq in enumerate(sequences, start=1):\n",
    "    print('------------')\n",
    "    gc_frac = gc_fraction(seq) * 100\n",
    "    print(f'Sequence {i}: {seq}')\n",
    "    print(f'GC-fraction: {gc_frac:.2f}%')\n",
    "\n",
    "    rev_comp = seq.reverse_complement()\n",
    "    print(f'Reverse complement: {rev_comp}')\n",
    "\n",
    "    rna_seq = seq.transcribe()\n",
    "    print(f'RNA: {rna_seq}')"
   ]
  },
  {
   "cell_type": "markdown",
   "id": "fd483c62",
   "metadata": {},
   "source": [
    "## Часть 3: Белки"
   ]
  },
  {
   "cell_type": "code",
   "execution_count": null,
   "id": "9b041abb",
   "metadata": {},
   "outputs": [],
   "source": [
    "from Bio import SeqIO\n",
    "from Bio.Seq import Seq\n",
    "from io import StringIO\n",
    "import requests\n",
    "from collections import Counter\n",
    "\n",
    "# Белок альфа Амилаза по UniProt ID \n",
    "uniprot_id = \"P0DTE8\" \n",
    "url = f\"https://www.uniprot.org/uniprot/{uniprot_id}.fasta\"\n",
    "\n",
    "response = requests.get(url)"
   ]
  },
  {
   "cell_type": "code",
   "execution_count": null,
   "id": "265c0a7e",
   "metadata": {},
   "outputs": [
    {
     "name": "stdout",
     "output_type": "stream",
     "text": [
      "Последовательность аминокислот (первые 30 элементов): MKLFWLLFTIGFCWAQYSSNTQQGRTSIVH\n"
     ]
    }
   ],
   "source": [
    "# Получение последовательности аминокислот\n",
    "fasta_io = StringIO(response.text)\n",
    "seq_io = SeqIO.read(fasta_io, \"fasta\")\n",
    "protein_seq = seq_io.seq\n",
    "\n",
    "print(\"Последовательность аминокислот (первые 30 элементов):\", protein_seq[:30])"
   ]
  },
  {
   "cell_type": "code",
   "execution_count": null,
   "id": "4f58d98a",
   "metadata": {},
   "outputs": [
    {
     "name": "stdout",
     "output_type": "stream",
     "text": [
      "Состав аминокислот:\n",
      "A: 27\n",
      "C: 12\n",
      "D: 35\n",
      "E: 20\n",
      "F: 29\n",
      "G: 52\n",
      "H: 12\n",
      "I: 28\n",
      "K: 24\n",
      "L: 27\n",
      "M: 11\n",
      "N: 41\n",
      "P: 22\n",
      "Q: 12\n",
      "R: 28\n",
      "S: 33\n",
      "T: 23\n",
      "V: 35\n",
      "W: 19\n",
      "Y: 21\n"
     ]
    }
   ],
   "source": [
    "# Получение состава аминокислот\n",
    "aa_counts = Counter(protein_seq)\n",
    "\n",
    "print(\"Состав аминокислот:\")\n",
    "for aa, count in sorted(aa_counts.items()):\n",
    "    print(f\"{aa}: {count}\")"
   ]
  },
  {
   "cell_type": "code",
   "execution_count": 23,
   "id": "9361b304",
   "metadata": {},
   "outputs": [
    {
     "name": "stdout",
     "output_type": "stream",
     "text": [
      "10 наиболее частых дипептидов:\n",
      "GF: 7\n",
      "GN: 6\n",
      "ND: 6\n",
      "NG: 6\n",
      "KL: 5\n",
      "SG: 5\n",
      "GS: 5\n",
      "SS: 4\n",
      "SN: 4\n",
      "VD: 4\n",
      "\n",
      "Всего дипептидов: 264\n"
     ]
    }
   ],
   "source": [
    "# Получение частот дипептидов\n",
    "dipeptides = [protein_seq[i:i+2] for i in range(len(protein_seq)-1)]\n",
    "di_counts = Counter(dipeptides)\n",
    "\n",
    "print(\"10 наиболее частых дипептидов:\")\n",
    "for dp, count in di_counts.most_common(10):\n",
    "    print(f\"{dp}: {count}\")\n",
    "\n",
    "print(f'\\nВсего дипептидов: {len(di_counts)}')"
   ]
  }
 ],
 "metadata": {
  "kernelspec": {
   "display_name": "chemy",
   "language": "python",
   "name": "python3"
  },
  "language_info": {
   "codemirror_mode": {
    "name": "ipython",
    "version": 3
   },
   "file_extension": ".py",
   "mimetype": "text/x-python",
   "name": "python",
   "nbconvert_exporter": "python",
   "pygments_lexer": "ipython3",
   "version": "3.12.11"
  }
 },
 "nbformat": 4,
 "nbformat_minor": 5
}
